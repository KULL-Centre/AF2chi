{
 "cells": [
  {
   "cell_type": "code",
   "execution_count": 1,
   "id": "f303a4b5",
   "metadata": {},
   "outputs": [],
   "source": [
    "import numpy as np\n",
    "import json as json"
   ]
  },
  {
   "cell_type": "code",
   "execution_count": 2,
   "id": "81a9c6d4",
   "metadata": {},
   "outputs": [],
   "source": [
    "proteins = ['A3D',  'FNfn10',  'Fyn_SH3',   'TNfn3', 'M_FABP', 'A_LBP']"
   ]
  },
  {
   "cell_type": "code",
   "execution_count": 3,
   "id": "8d771428",
   "metadata": {},
   "outputs": [],
   "source": [
    "def get_dummy_avgs(methyl_S2_axis, CC_atoms, dummy_avgs_dict=None, dummy_errs_dict=None):\n",
    "    if dummy_avgs_dict == None and dummy_errs_dict == None:\n",
    "        dummy_avgs = {'ILE_CB_CG2':[], 'ILE_CG1_CD1':[], 'VAL_CB_CG1':[], 'VAL_CB_CG2':[], 'LEU_CG_CD1':[], 'LEU_CG_CD2':[], 'THR_CB_CG2':[], 'ALA_CA_CB':[], 'MET_CG_CE':[]}\n",
    "        dummy_errs = {'ILE_CB_CG2':[], 'ILE_CG1_CD1':[], 'VAL_CB_CG1':[], 'VAL_CB_CG2':[], 'LEU_CG_CD1':[], 'LEU_CG_CD2':[], 'THR_CB_CG2':[], 'ALA_CA_CB':[], 'MET_CG_CE':[]}\n",
    "    elif dummy_avgs_dict == None or dummy_errs_dict == None:\n",
    "        raise ValueError('dummy_avgs_dict and dummy_errs_dict must be both None or both not None')\n",
    "    else:\n",
    "        dummy_avgs = dummy_avgs_dict\n",
    "        dummy_errs = dummy_errs_dict\n",
    "\n",
    "    restypes_S2 = 'ILE VAL LEU THR ALA MET'.split()\n",
    "    for restype in restypes_S2:\n",
    "        for residue in methyl_S2_axis.keys():\n",
    "            if restype in residue:\n",
    "                for i,S2_axis in enumerate(methyl_S2_axis[residue]):\n",
    "                    if S2_axis[0] == 'NaN':\n",
    "                        continue\n",
    "                    atom_types = CC_atoms[restype][i]\n",
    "                    dummy_avgs[f'{restype}_{atom_types[0]}_{atom_types[1]}'].append(S2_axis[0])\n",
    "                    dummy_errs[f'{restype}_{atom_types[0]}_{atom_types[1]}'].append(S2_axis[1])    \n",
    "\n",
    "    return dummy_avgs, dummy_errs"
   ]
  },
  {
   "cell_type": "code",
   "execution_count": 4,
   "id": "b149afe7",
   "metadata": {},
   "outputs": [],
   "source": [
    "for i,protein in enumerate(proteins):\n",
    "\n",
    "    with open(f'../data/S2_axis_expt/{protein}.json', 'r') as openfile:\n",
    "        json_object = json.load(openfile)\n",
    "    protein_S2_axis_expt = json_object['data']\n",
    "    CC_atoms = json_object['CC_atoms']\n",
    "\n",
    "    if i==0:\n",
    "        dummy_avgs, dummy_errs = get_dummy_avgs(protein_S2_axis_expt, CC_atoms)\n",
    "    else:\n",
    "        dummy_avgs, dummy_errs = get_dummy_avgs(protein_S2_axis_expt, CC_atoms, dummy_avgs, dummy_errs)\n"
   ]
  },
  {
   "cell_type": "code",
   "execution_count": 5,
   "id": "2b754dcf",
   "metadata": {},
   "outputs": [],
   "source": [
    "for methyl_type in dummy_avgs.keys():\n",
    "    dummy_avgs[methyl_type] = np.average(dummy_avgs[methyl_type])\n",
    "    dummy_errs[methyl_type] = np.sqrt(np.sum(np.square(dummy_errs[methyl_type]))) / len(dummy_errs[methyl_type])"
   ]
  },
  {
   "cell_type": "code",
   "execution_count": 6,
   "id": "72d88cdf",
   "metadata": {},
   "outputs": [],
   "source": [
    "with open(\"../data/S2_axis_expt/expt_dummymodel.json\", \"w\") as outfile:\n",
    "    json.dump({'dummy_avgs':dummy_avgs, 'dummy_errs':dummy_errs}, outfile)"
   ]
  }
 ],
 "metadata": {
  "kernelspec": {
   "display_name": "af2chi",
   "language": "python",
   "name": "python3"
  },
  "language_info": {
   "codemirror_mode": {
    "name": "ipython",
    "version": 3
   },
   "file_extension": ".py",
   "mimetype": "text/x-python",
   "name": "python",
   "nbconvert_exporter": "python",
   "pygments_lexer": "ipython3",
   "version": "3.12.3"
  }
 },
 "nbformat": 4,
 "nbformat_minor": 5
}
